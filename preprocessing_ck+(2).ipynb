{
  "cells": [
    {
      "cell_type": "markdown",
      "metadata": {
        "id": "view-in-github",
        "colab_type": "text"
      },
      "source": [
        "<a href=\"https://colab.research.google.com/github/Lihini827/Facial-Expression-Recognition-1-/blob/main/preprocessing_ck%2B(2).ipynb\" target=\"_parent\"><img src=\"https://colab.research.google.com/assets/colab-badge.svg\" alt=\"Open In Colab\"/></a>"
      ]
    },
    {
      "cell_type": "code",
      "execution_count": null,
      "metadata": {
        "colab": {
          "base_uri": "https://localhost:8080/"
        },
        "id": "VdTEr14mTt_K",
        "outputId": "87c0f0de-cd76-4c19-dcd5-d878d03b05ea"
      },
      "outputs": [
        {
          "output_type": "stream",
          "name": "stdout",
          "text": [
            "Drive already mounted at /content/drive; to attempt to forcibly remount, call drive.mount(\"/content/drive\", force_remount=True).\n"
          ]
        }
      ],
      "source": [
        "from google.colab import drive\n",
        "drive.mount('/content/drive')"
      ]
    },
    {
      "cell_type": "code",
      "execution_count": null,
      "metadata": {
        "id": "42OlVzEFUHUZ"
      },
      "outputs": [],
      "source": [
        "from PIL import Image\n",
        "from imgaug import augmenters as iaa\n",
        "import numpy as np\n",
        "import glob,os,cv2\n",
        "\n",
        "import warnings\n",
        "warnings.filterwarnings('ignore')"
      ]
    },
    {
      "cell_type": "code",
      "execution_count": null,
      "metadata": {
        "id": "hhGi6FAIUK-m"
      },
      "outputs": [],
      "source": [
        "path_parent = '/content/drive/MyDrive/Facial_Expression/dataset/dataset-ck+train,test,validation(withaug1to10)AUg/train/*'\n",
        "path_parent = os.path.dirname(os.path.abspath(path_parent)) + '/'\n",
        "dirs_parent = os.listdir(path_parent)"
      ]
    },
    {
      "cell_type": "code",
      "execution_count": null,
      "metadata": {
        "colab": {
          "base_uri": "https://localhost:8080/"
        },
        "id": "Ucql1e5G29QT",
        "outputId": "00e848c3-68d7-4db6-f06a-e46f2691d654"
      },
      "outputs": [
        {
          "output_type": "stream",
          "name": "stdout",
          "text": [
            "['happy']\n"
          ]
        }
      ],
      "source": [
        "print(dirs_parent)\n"
      ]
    },
    {
      "cell_type": "code",
      "execution_count": null,
      "metadata": {
        "colab": {
          "base_uri": "https://localhost:8080/"
        },
        "id": "NiE3VNQHUf6z",
        "outputId": "646d1156-0475-41a0-d4c7-76dbf4eea2a2"
      },
      "outputs": [
        {
          "output_type": "stream",
          "name": "stdout",
          "text": [
            "happy\n"
          ]
        }
      ],
      "source": [
        "for item_parent in dirs_parent:\n",
        "    print(item_parent)\n",
        "\n",
        "    path = '/content/drive/MyDrive/Facial_Expression/dataset/dataset-ck+train,test,validation(withaug1to10)AUg/train/'+item_parent+'/*'\n",
        "    path = os.path.dirname(os.path.abspath(path)) + '/'\n",
        "    dirs = os.listdir(path)"
      ]
    },
    {
      "cell_type": "code",
      "execution_count": null,
      "metadata": {
        "id": "_D0tJD-yUwar"
      },
      "outputs": [],
      "source": [
        "    for item in dirs:\n",
        "        if (os.path.isfile(path+item)) & ('png' in item):\n",
        "            im = Image.open(path+item)\n",
        "            if im.mode !='RGB':\n",
        "                im = im.convert('RGB')\n",
        "            imResize = im.resize((250,250),Image.ANTIALIAS)\n",
        "            imResize.save(path+item,'JPEG',quality = 90)\n",
        "    fps = glob.glob(path+'*')\n",
        "    images = np.array(\n",
        "        [cv2.cvtColor(cv2.imread(fp),cv2.COLOR_BGR2RGB) for fp in fps],\n",
        "        dtype = np.uint8\n",
        "    )"
      ]
    },
    {
      "cell_type": "code",
      "execution_count": null,
      "metadata": {
        "id": "RVOoyKgXU3FC"
      },
      "outputs": [],
      "source": [
        "    seq = iaa.Sequential([\n",
        "    iaa.Fliplr(1.0),\n",
        "    iaa.Crop(percent = (0,0.1)),\n",
        "    iaa.GaussianBlur(sigma=(0,3.0)),\n",
        "    iaa.ContrastNormalization((0.75,1.5)),\n",
        "    iaa.AdditiveGaussianNoise(loc=0,scale=(0.0,0.05*255),per_channel=0.5),\n",
        "    iaa.Multiply((0.8,1.2),per_channel=0.2),\n",
        "\n",
        "\n",
        "    iaa.Affine(\n",
        "        scale=,\n",
        "        translate_percent={\"x\":(-0.2,0.2),\"y\":(-0.2,0.2)},\n",
        "        rotate=(-25,25),\n",
        "        shear=(-8,8))\n",
        "    ],random_order=True)"
      ]
    },
    {
      "cell_type": "code",
      "execution_count": null,
      "metadata": {
        "id": "_qvgAtvQU7Ni"
      },
      "outputs": [],
      "source": [
        "aug_times = 22\n",
        "\n",
        "\n",
        "for times in range(aug_times):\n",
        "  images_aug = seq(images=images)\n",
        "\n",
        "  i=0\n",
        "  for img in images_aug:\n",
        "    cv2.imwrite(os.path.join( path,f'{times}'+'hauged_'+os.path.basename(fps[i])),cv2.cvtColor(img,cv2.COLOR_BGR2RGB))\n",
        "    i+=1"
      ]
    }
  ],
  "metadata": {
    "colab": {
      "provenance": [],
      "mount_file_id": "1yEmz4ZDIICZExBCfkBT-q45qwfe7vys9",
      "authorship_tag": "ABX9TyPPWy8yCpfYWBzJjOQPZVdP",
      "include_colab_link": true
    },
    "kernelspec": {
      "display_name": "Python 3",
      "name": "python3"
    },
    "language_info": {
      "name": "python"
    },
    "accelerator": "GPU"
  },
  "nbformat": 4,
  "nbformat_minor": 0
}