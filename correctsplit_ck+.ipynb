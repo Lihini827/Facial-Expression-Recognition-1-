{
  "nbformat": 4,
  "nbformat_minor": 0,
  "metadata": {
    "colab": {
      "provenance": [],
      "authorship_tag": "ABX9TyPSqehCudlgJO41jdexo28t",
      "include_colab_link": true
    },
    "kernelspec": {
      "name": "python3",
      "display_name": "Python 3"
    },
    "language_info": {
      "name": "python"
    }
  },
  "cells": [
    {
      "cell_type": "markdown",
      "metadata": {
        "id": "view-in-github",
        "colab_type": "text"
      },
      "source": [
        "<a href=\"https://colab.research.google.com/github/Lihini827/Facial-Expression-Recognition-1-/blob/main/correctsplit_ck%2B.ipynb\" target=\"_parent\"><img src=\"https://colab.research.google.com/assets/colab-badge.svg\" alt=\"Open In Colab\"/></a>"
      ]
    },
    {
      "cell_type": "code",
      "source": [
        "from google.colab import drive\n",
        "drive.mount('/content/drive')"
      ],
      "metadata": {
        "colab": {
          "base_uri": "https://localhost:8080/"
        },
        "id": "yDWhOYxYo9HR",
        "outputId": "f6c86272-9abc-44e4-c09f-85641d1be6bc"
      },
      "execution_count": null,
      "outputs": [
        {
          "output_type": "stream",
          "name": "stdout",
          "text": [
            "Mounted at /content/drive\n"
          ]
        }
      ]
    },
    {
      "cell_type": "code",
      "source": [
        "import tensorflow as tf\n",
        "from tensorflow.keras import layers,models\n",
        "import matplotlib.pyplot as plt\n",
        "import torch"
      ],
      "metadata": {
        "id": "rEjQ9tfjpD_i"
      },
      "execution_count": null,
      "outputs": []
    },
    {
      "cell_type": "code",
      "source": [
        "IMAGE_SIZE=48\n",
        "BATCH_SIZE=32\n",
        "CHANNELS=3"
      ],
      "metadata": {
        "id": "wOSFJok7pMBa"
      },
      "execution_count": null,
      "outputs": []
    },
    {
      "cell_type": "code",
      "source": [
        "!pip install split-folders"
      ],
      "metadata": {
        "colab": {
          "base_uri": "https://localhost:8080/"
        },
        "id": "7EmudR1wpL7N",
        "outputId": "da21c652-df73-4454-ca2c-004f8209e8d8"
      },
      "execution_count": null,
      "outputs": [
        {
          "output_type": "stream",
          "name": "stdout",
          "text": [
            "Collecting split-folders\n",
            "  Downloading split_folders-0.5.1-py3-none-any.whl (8.4 kB)\n",
            "Installing collected packages: split-folders\n",
            "Successfully installed split-folders-0.5.1\n"
          ]
        }
      ]
    },
    {
      "cell_type": "code",
      "execution_count": null,
      "metadata": {
        "id": "9n5HvPA0o5Ot"
      },
      "outputs": [],
      "source": [
        "import splitfolders"
      ]
    },
    {
      "cell_type": "code",
      "source": [
        "input_folder=\"/content/drive/MyDrive/Facial_Expression/dataset/dataset-ck+/\""
      ],
      "metadata": {
        "id": "8ahc5Iy4s2EM"
      },
      "execution_count": null,
      "outputs": []
    },
    {
      "cell_type": "code",
      "source": [
        "splitfolders.ratio(input_folder,output=\"/content/drive/MyDrive/Facial_Expression/dataset/dataset-ck+split val,train,test\",\n",
        "                   seed=42,ratio=(.7,.1,.2),    #train,validation,test\n",
        "                   group_prefix=None)"
      ],
      "metadata": {
        "colab": {
          "base_uri": "https://localhost:8080/"
        },
        "id": "mkrtd8fFt778",
        "outputId": "29d36209-3015-495c-da43-ca111c0ee880"
      },
      "execution_count": null,
      "outputs": [
        {
          "output_type": "stream",
          "name": "stderr",
          "text": [
            "Copying files: 327 files [03:25,  1.59 files/s]\n"
          ]
        }
      ]
    }
  ]
}